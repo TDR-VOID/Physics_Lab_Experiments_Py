{
 "cells": [
  {
   "cell_type": "markdown",
   "metadata": {},
   "source": [
    "# Experiment 1"
   ]
  },
  {
   "cell_type": "markdown",
   "metadata": {},
   "source": [
    "## Acceleration due to Gravity by Simple Pendulum"
   ]
  },
  {
   "cell_type": "code",
   "execution_count": 2,
   "metadata": {},
   "outputs": [],
   "source": [
    "# List to save the length of the pendulum\n",
    "l = [160,150,60,50]\n",
    "\n",
    "# The uncertainty of the meter rule reading (instrumental uncertainty)\n",
    "instrumental_uncertainty = 0.05\n",
    "\n",
    "# Number of transits\n",
    "n = [ 0,10,20,30,40,200,210,220,230,240]"
   ]
  }
 ],
 "metadata": {
  "kernelspec": {
   "display_name": "Python 3",
   "language": "python",
   "name": "python3"
  },
  "language_info": {
   "codemirror_mode": {
    "name": "ipython",
    "version": 3
   },
   "file_extension": ".py",
   "mimetype": "text/x-python",
   "name": "python",
   "nbconvert_exporter": "python",
   "pygments_lexer": "ipython3",
   "version": "3.12.4"
  }
 },
 "nbformat": 4,
 "nbformat_minor": 2
}
