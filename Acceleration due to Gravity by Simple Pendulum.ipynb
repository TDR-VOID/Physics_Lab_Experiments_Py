{
 "cells": [
  {
   "cell_type": "markdown",
   "metadata": {},
   "source": [
    "# Experiment 1"
   ]
  },
  {
   "cell_type": "markdown",
   "metadata": {},
   "source": [
    "## Acceleration due to Gravity by Simple Pendulum"
   ]
  },
  {
   "cell_type": "code",
   "execution_count": 54,
   "metadata": {},
   "outputs": [],
   "source": [
    "# List to save the length of the pendulum\n",
    "l = [160,150,60,50]\n",
    "\n",
    "# The uncertainty of the meter rule reading (instrumental uncertainty)\n",
    "instrumental_uncertainty = 0.05\n",
    "\n",
    "# Number of transits\n",
    "n = [ 0,10,20,30,40,200,210,220,230,240]"
   ]
  },
  {
   "cell_type": "code",
   "execution_count": 55,
   "metadata": {},
   "outputs": [],
   "source": [
    "# Functin to convert mm:ss to s\n",
    "def convert_to_seconds(time):\n",
    "    return int(time.split(\":\")[0])*60 + int(time.split(\":\")[1])\n"
   ]
  },
  {
   "cell_type": "code",
   "execution_count": 56,
   "metadata": {},
   "outputs": [],
   "source": [
    "# List to save the length of the pendulum\n",
    "l = [160,150,60,50]\n",
    "\n",
    "# The uncertainty of the meter rule reading (instrumental uncertainty) [cm]\n",
    "instrumental_uncertainty = 0.05\n",
    "\n",
    "\n",
    "# List to save the time for 200 oscillations\n",
    "t_start = [4.32,29.99,55.58,81.30,107.11]\n",
    "t_stop = [518.32,544.12,569.89,595.58,621.22]\n",
    "\n",
    "# Transit\n",
    "n_start = [ 0,10,20,30,40]\n",
    "n_stop = [200,210,220,230,240]\n",
    "\n",
    "# Time for 200 oscillations [s]\n",
    "t_200_oscillation = [None]*len(t_start)\n",
    "for i in range(0, len(t_start)):\n",
    "    t_200_oscillation[i] = round((t_stop[i] - t_start[i]),2)\n",
    "\n",
    "\n",
    "# Period [T] (s)\n",
    "period = [round((t/200),5) for t in t_200_oscillation]\n",
    "\n",
    "# The uncertainty of the time [s]\n",
    "time_uncertainty = 0.01\n"
   ]
  },
  {
   "cell_type": "code",
   "execution_count": 57,
   "metadata": {},
   "outputs": [
    {
     "name": "stdout",
     "output_type": "stream",
     "text": [
      "[514.0, 514.13, 514.31, 514.28, 514.11]\n",
      "[2.57, 2.57, 2.57, 2.57, 2.57]\n"
     ]
    }
   ],
   "source": [
    "print(t_200_oscillation)\n",
    "print(period)"
   ]
  },
  {
   "cell_type": "markdown",
   "metadata": {},
   "source": [
    "### Tabel 1.1 : Time for 200 Oscillations\n",
    "### L = 160 +/- 0.05 cm\n",
    "### "
   ]
  },
  {
   "cell_type": "code",
   "execution_count": 58,
   "metadata": {},
   "outputs": [
    {
     "ename": "SyntaxError",
     "evalue": "invalid syntax (3494958849.py, line 5)",
     "output_type": "error",
     "traceback": [
      "\u001b[1;36m  Cell \u001b[1;32mIn[58], line 5\u001b[1;36m\u001b[0m\n\u001b[1;33m    t_200_oscillation =\u001b[0m\n\u001b[1;37m                        ^\u001b[0m\n\u001b[1;31mSyntaxError\u001b[0m\u001b[1;31m:\u001b[0m invalid syntax\n"
     ]
    }
   ],
   "source": [
    "# Create DataFrame\n",
    "\n",
    "column_names = ['Transit', 'Time (s)', 'Time for 200 Oscillations (s)', 'Period [T] (s)']\n",
    "\n",
    "t_200_oscillation = "
   ]
  }
 ],
 "metadata": {
  "kernelspec": {
   "display_name": "Python 3",
   "language": "python",
   "name": "python3"
  },
  "language_info": {
   "codemirror_mode": {
    "name": "ipython",
    "version": 3
   },
   "file_extension": ".py",
   "mimetype": "text/x-python",
   "name": "python",
   "nbconvert_exporter": "python",
   "pygments_lexer": "ipython3",
   "version": "3.12.4"
  }
 },
 "nbformat": 4,
 "nbformat_minor": 2
}
