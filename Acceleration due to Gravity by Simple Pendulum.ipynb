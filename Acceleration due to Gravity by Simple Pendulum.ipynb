{
 "cells": [
  {
   "cell_type": "markdown",
   "metadata": {},
   "source": [
    "# Experiment 1"
   ]
  },
  {
   "cell_type": "markdown",
   "metadata": {},
   "source": [
    "## Acceleration due to Gravity by Simple Pendulum"
   ]
  },
  {
   "cell_type": "code",
   "execution_count": 111,
   "metadata": {},
   "outputs": [],
   "source": [
    "# Defining the necessary libraries\n",
    "import pandas as pd"
   ]
  },
  {
   "cell_type": "code",
   "execution_count": 112,
   "metadata": {},
   "outputs": [],
   "source": [
    "# List to save the length of the pendulum\n",
    "l = [160,150,60,50]\n",
    "\n",
    "# The uncertainty of the meter rule reading (instrumental uncertainty)\n",
    "instrumental_uncertainty = 0.05\n",
    "\n",
    "# Number of transits\n",
    "n = [ 0,10,20,30,40,200,210,220,230,240]"
   ]
  },
  {
   "cell_type": "code",
   "execution_count": 113,
   "metadata": {},
   "outputs": [],
   "source": [
    "# Functin to convert mm:ss to s\n",
    "def convert_to_seconds(time):\n",
    "    return int(time.split(\":\")[0])*60 + int(time.split(\":\")[1])\n"
   ]
  },
  {
   "cell_type": "code",
   "execution_count": 114,
   "metadata": {},
   "outputs": [],
   "source": [
    "# List to save the length of the pendulum\n",
    "l = [160,150,60,50]\n",
    "\n",
    "# The uncertainty of the meter rule reading (instrumental uncertainty) [cm]\n",
    "instrumental_uncertainty = 0.05\n",
    "\n",
    "\n",
    "# List to save the time for 200 oscillations\n",
    "t_start = [4.32,29.99,55.58,81.30,107.11]\n",
    "t_stop = [518.32,544.12,569.89,595.58,621.22]\n",
    "\n",
    "# Transit\n",
    "n_start = [ 0,10,20,30,40]\n",
    "n_stop = [200,210,220,230,240]\n",
    "\n",
    "# Time for 200 oscillations [s]\n",
    "t_200_oscillation = [None]*len(t_start)\n",
    "for i in range(0, len(t_start)):\n",
    "    t_200_oscillation[i] = round((t_stop[i] - t_start[i]),2)\n",
    "\n",
    "\n",
    "# Period [T] (s)\n",
    "period = [round((t/200),5) for t in t_200_oscillation]\n",
    "\n",
    "# The uncertainty of the time [s]\n",
    "time_uncertainty = 0.01\n"
   ]
  },
  {
   "cell_type": "code",
   "execution_count": 115,
   "metadata": {},
   "outputs": [
    {
     "name": "stdout",
     "output_type": "stream",
     "text": [
      "Time for 200 Oscillations (s) : [514.0, 514.13, 514.31, 514.28, 514.11]\n",
      "Period [T] (s) : [2.57, 2.57065, 2.57155, 2.5714, 2.57055]\n"
     ]
    }
   ],
   "source": [
    "print(\"Time for 200 Oscillations (s) :\",t_200_oscillation)\n",
    "print(\"Period [T] (s) :\", period)"
   ]
  },
  {
   "cell_type": "markdown",
   "metadata": {},
   "source": [
    "### Tabel 1.1 : Time for 200 Oscillations\n",
    "### L = 160 +/- 0.05 cm\n",
    "### "
   ]
  },
  {
   "cell_type": "code",
   "execution_count": 116,
   "metadata": {},
   "outputs": [],
   "source": [
    "# Create DataFrame\n",
    "\n",
    "column_names = ['Transit[start]', 'Time[start] (s)', 'Transit[stop]', 'Time[stop] (s)', 'Time for 200 Oscillations (s)', 'Period [T] (s)']\n",
    "\n",
    "# Create a dictionary where the keys are the column names and the values are the lists of data\n",
    "data = {\n",
    "    column_names[0]: n_start,\n",
    "    column_names[1]: t_start,\n",
    "    column_names[2]: n_stop,\n",
    "    column_names[3]: t_stop,\n",
    "    column_names[4]: t_200_oscillation,\n",
    "    column_names[5]: period\n",
    "}\n"
   ]
  },
  {
   "cell_type": "code",
   "execution_count": 117,
   "metadata": {},
   "outputs": [
    {
     "name": "stdout",
     "output_type": "stream",
     "text": [
      "   Transit[start]  Time[start] (s)  Transit[stop]  Time[stop] (s)  \\\n",
      "0               0             4.32            200          518.32   \n",
      "1              10            29.99            210          544.12   \n",
      "2              20            55.58            220          569.89   \n",
      "3              30            81.30            230          595.58   \n",
      "4              40           107.11            240          621.22   \n",
      "\n",
      "   Time for 200 Oscillations (s)  Period [T] (s)  \n",
      "0                         514.00         2.57000  \n",
      "1                         514.13         2.57065  \n",
      "2                         514.31         2.57155  \n",
      "3                         514.28         2.57140  \n",
      "4                         514.11         2.57055  \n"
     ]
    }
   ],
   "source": [
    "df = pd.DataFrame(data)\n",
    "\n",
    "print(df)"
   ]
  },
  {
   "cell_type": "code",
   "execution_count": null,
   "metadata": {},
   "outputs": [],
   "source": []
  },
  {
   "cell_type": "code",
   "execution_count": null,
   "metadata": {},
   "outputs": [],
   "source": []
  },
  {
   "cell_type": "code",
   "execution_count": null,
   "metadata": {},
   "outputs": [],
   "source": []
  },
  {
   "cell_type": "code",
   "execution_count": null,
   "metadata": {},
   "outputs": [],
   "source": []
  },
  {
   "cell_type": "code",
   "execution_count": null,
   "metadata": {},
   "outputs": [],
   "source": []
  },
  {
   "cell_type": "code",
   "execution_count": null,
   "metadata": {},
   "outputs": [],
   "source": []
  }
 ],
 "metadata": {
  "kernelspec": {
   "display_name": "Python 3",
   "language": "python",
   "name": "python3"
  },
  "language_info": {
   "codemirror_mode": {
    "name": "ipython",
    "version": 3
   },
   "file_extension": ".py",
   "mimetype": "text/x-python",
   "name": "python",
   "nbconvert_exporter": "python",
   "pygments_lexer": "ipython3",
   "version": "3.12.4"
  }
 },
 "nbformat": 4,
 "nbformat_minor": 2
}
