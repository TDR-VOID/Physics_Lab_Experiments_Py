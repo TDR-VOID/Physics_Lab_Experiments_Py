{
 "cells": [
  {
   "cell_type": "markdown",
   "metadata": {},
   "source": [
    "# Experiment 1"
   ]
  },
  {
   "cell_type": "markdown",
   "metadata": {},
   "source": [
    "## Acceleration due to Gravity by Simple Pendulum"
   ]
  },
  {
   "cell_type": "code",
   "execution_count": 185,
   "metadata": {},
   "outputs": [],
   "source": [
    "# Defining the necessary libraries\n",
    "import pandas as pd\n",
    "import numpy as np"
   ]
  },
  {
   "cell_type": "code",
   "execution_count": 169,
   "metadata": {},
   "outputs": [],
   "source": [
    "# List to save the length of the pendulum\n",
    "l = [160,150,60,50]\n",
    "\n",
    "# The uncertainty of the meter rule reading (instrumental uncertainty)\n",
    "instrumental_uncertainty = 0.05\n",
    "\n",
    "# Number of transits\n",
    "n = [ 0,10,20,30,40,200,210,220,230,240]"
   ]
  },
  {
   "cell_type": "code",
   "execution_count": 170,
   "metadata": {},
   "outputs": [],
   "source": [
    "# Functin to convert mm:ss to s\n",
    "def convert_to_seconds(time):\n",
    "    return int(time.split(\":\")[0])*60 + int(time.split(\":\")[1])\n"
   ]
  },
  {
   "cell_type": "code",
   "execution_count": 171,
   "metadata": {},
   "outputs": [],
   "source": [
    "# List to save the length of the pendulum\n",
    "l = [160,150,60,50]\n",
    "\n",
    "# The uncertainty of the meter rule reading (instrumental uncertainty) [cm]\n",
    "instrumental_uncertainty = 0.05\n",
    "\n",
    "# Transit\n",
    "n_start = [0,10,20,30,40]\n",
    "n_stop = [200,210,220,230,240]\n",
    "\n",
    "\n",
    "# The uncertainty of the time [s]\n",
    "time_uncertainty = 0.01\n"
   ]
  },
  {
   "cell_type": "code",
   "execution_count": 172,
   "metadata": {},
   "outputs": [],
   "source": [
    "# Function to calculate the time for 200 oscillations [t]\n",
    "def time_for_200_oscillation(t_start, t_stop):\n",
    "    t_200_oscillation = [None]*len(n_stop)\n",
    "    for i in range(0,len(t_stop)):\n",
    "        t_200_oscillation[i] = round((t_stop[i] - t_start[i]),2)\n",
    "    return t_200_oscillation\n",
    "    \n",
    "\n",
    "# Function to calculate the period [T] (s)\n",
    "def period(t_200_oscillation):\n",
    "    period = [None]*len(t_200_oscillation)\n",
    "    for j in range(0,len(t_200_oscillation)):\n",
    "        period[j] = round((t_200_oscillation[j]/200),5)\n",
    "    return period\n",
    "\n"
   ]
  },
  {
   "cell_type": "markdown",
   "metadata": {},
   "source": [
    "### Tabel 1.1 : Time for 200 Oscillations\n"
   ]
  },
  {
   "cell_type": "markdown",
   "metadata": {},
   "source": [
    "### L = 160 +/- 0.05 cm"
   ]
  },
  {
   "cell_type": "code",
   "execution_count": 173,
   "metadata": {},
   "outputs": [],
   "source": [
    "# Table 1.1 data generation\n",
    "\n",
    "# List to save the time for 200 oscillations [L = 160cm]\n",
    "t_start1 = [4.32,29.99,55.58,81.30,107.11]\n",
    "t_stop1 = [518.32,544.12,569.89,595.58,621.22]\n",
    "\n"
   ]
  },
  {
   "cell_type": "markdown",
   "metadata": {},
   "source": [
    "### L = 150 +/- 0.05 cm"
   ]
  },
  {
   "cell_type": "code",
   "execution_count": 174,
   "metadata": {},
   "outputs": [],
   "source": [
    "# Table 1.2 data generation\n",
    "\n",
    "# List to save the time for 200 oscillations [L = 150cm]\n",
    "t_start2 = [07.14,31.97,56.88,81.81,106.62]\n",
    "t_stop2 = [505.12,529.99,554.89,579.88,604.78]\n"
   ]
  },
  {
   "cell_type": "markdown",
   "metadata": {},
   "source": [
    "### L = 60 +/- 0.05 cm"
   ]
  },
  {
   "cell_type": "code",
   "execution_count": 175,
   "metadata": {},
   "outputs": [],
   "source": [
    "# Table 1.3 data generation\n",
    "\n",
    "# List to save the time for 200 oscillations [L = 60cm]\n",
    "t_start3 = [06.91,22.89,38.94,54.93,71.04]\n",
    "t_stop3 = [327.78,343.89,359.78,375.92,391.88]\n"
   ]
  },
  {
   "cell_type": "markdown",
   "metadata": {},
   "source": [
    "### L = 50 +/- 0.05 cm"
   ]
  },
  {
   "cell_type": "code",
   "execution_count": 176,
   "metadata": {},
   "outputs": [],
   "source": [
    "# Table 1.4 data generation\n",
    "\n",
    "# List to save the time for 200 oscillations [L = 50cm]\n",
    "t_start4 = [06.17,20.91,35.66,50.49,65.23]\n",
    "t_stop4 = [301.64,316.36,331.18,345.94,360.80]"
   ]
  },
  {
   "cell_type": "code",
   "execution_count": 177,
   "metadata": {},
   "outputs": [],
   "source": [
    "\n",
    "t_start = [t_start1, t_start2, t_start3, t_start4]\n",
    "t_stop = [t_stop1, t_stop2, t_stop3, t_stop4]\n",
    "\n",
    "\n",
    "t = [None]*5\n",
    "p = [None]*5\n",
    "for i in range(0,4):\n",
    "    t[i] = time_for_200_oscillation(t_start[i], t_stop[i])\n",
    "    p[i] = period(t[i])\n"
   ]
  },
  {
   "cell_type": "code",
   "execution_count": 178,
   "metadata": {},
   "outputs": [
    {
     "name": "stdout",
     "output_type": "stream",
     "text": [
      "Table 1. 1  : Time for 200 Oscillations\n"
     ]
    },
    {
     "data": {
      "text/html": [
       "<div>\n",
       "<style scoped>\n",
       "    .dataframe tbody tr th:only-of-type {\n",
       "        vertical-align: middle;\n",
       "    }\n",
       "\n",
       "    .dataframe tbody tr th {\n",
       "        vertical-align: top;\n",
       "    }\n",
       "\n",
       "    .dataframe thead th {\n",
       "        text-align: right;\n",
       "    }\n",
       "</style>\n",
       "<table border=\"1\" class=\"dataframe\">\n",
       "  <thead>\n",
       "    <tr style=\"text-align: right;\">\n",
       "      <th></th>\n",
       "      <th>Transit[start]</th>\n",
       "      <th>Time[start] (s)</th>\n",
       "      <th>Transit[stop]</th>\n",
       "      <th>Time[stop] (s)</th>\n",
       "      <th>Time for 200 Oscillations (s)</th>\n",
       "      <th>Period [T] (s)</th>\n",
       "    </tr>\n",
       "  </thead>\n",
       "  <tbody>\n",
       "    <tr>\n",
       "      <th>0</th>\n",
       "      <td>0</td>\n",
       "      <td>4.32</td>\n",
       "      <td>200</td>\n",
       "      <td>518.32</td>\n",
       "      <td>514.00</td>\n",
       "      <td>2.57000</td>\n",
       "    </tr>\n",
       "    <tr>\n",
       "      <th>1</th>\n",
       "      <td>10</td>\n",
       "      <td>29.99</td>\n",
       "      <td>210</td>\n",
       "      <td>544.12</td>\n",
       "      <td>514.13</td>\n",
       "      <td>2.57065</td>\n",
       "    </tr>\n",
       "    <tr>\n",
       "      <th>2</th>\n",
       "      <td>20</td>\n",
       "      <td>55.58</td>\n",
       "      <td>220</td>\n",
       "      <td>569.89</td>\n",
       "      <td>514.31</td>\n",
       "      <td>2.57155</td>\n",
       "    </tr>\n",
       "    <tr>\n",
       "      <th>3</th>\n",
       "      <td>30</td>\n",
       "      <td>81.30</td>\n",
       "      <td>230</td>\n",
       "      <td>595.58</td>\n",
       "      <td>514.28</td>\n",
       "      <td>2.57140</td>\n",
       "    </tr>\n",
       "    <tr>\n",
       "      <th>4</th>\n",
       "      <td>40</td>\n",
       "      <td>107.11</td>\n",
       "      <td>240</td>\n",
       "      <td>621.22</td>\n",
       "      <td>514.11</td>\n",
       "      <td>2.57055</td>\n",
       "    </tr>\n",
       "  </tbody>\n",
       "</table>\n",
       "</div>"
      ],
      "text/plain": [
       "   Transit[start]  Time[start] (s)  Transit[stop]  Time[stop] (s)  \\\n",
       "0               0             4.32            200          518.32   \n",
       "1              10            29.99            210          544.12   \n",
       "2              20            55.58            220          569.89   \n",
       "3              30            81.30            230          595.58   \n",
       "4              40           107.11            240          621.22   \n",
       "\n",
       "   Time for 200 Oscillations (s)  Period [T] (s)  \n",
       "0                         514.00         2.57000  \n",
       "1                         514.13         2.57065  \n",
       "2                         514.31         2.57155  \n",
       "3                         514.28         2.57140  \n",
       "4                         514.11         2.57055  "
      ]
     },
     "metadata": {},
     "output_type": "display_data"
    },
    {
     "name": "stdout",
     "output_type": "stream",
     "text": [
      "Table 1. 2  : Time for 200 Oscillations\n"
     ]
    },
    {
     "data": {
      "text/html": [
       "<div>\n",
       "<style scoped>\n",
       "    .dataframe tbody tr th:only-of-type {\n",
       "        vertical-align: middle;\n",
       "    }\n",
       "\n",
       "    .dataframe tbody tr th {\n",
       "        vertical-align: top;\n",
       "    }\n",
       "\n",
       "    .dataframe thead th {\n",
       "        text-align: right;\n",
       "    }\n",
       "</style>\n",
       "<table border=\"1\" class=\"dataframe\">\n",
       "  <thead>\n",
       "    <tr style=\"text-align: right;\">\n",
       "      <th></th>\n",
       "      <th>Transit[start]</th>\n",
       "      <th>Time[start] (s)</th>\n",
       "      <th>Transit[stop]</th>\n",
       "      <th>Time[stop] (s)</th>\n",
       "      <th>Time for 200 Oscillations (s)</th>\n",
       "      <th>Period [T] (s)</th>\n",
       "    </tr>\n",
       "  </thead>\n",
       "  <tbody>\n",
       "    <tr>\n",
       "      <th>0</th>\n",
       "      <td>0</td>\n",
       "      <td>4.32</td>\n",
       "      <td>200</td>\n",
       "      <td>518.32</td>\n",
       "      <td>497.98</td>\n",
       "      <td>2.48990</td>\n",
       "    </tr>\n",
       "    <tr>\n",
       "      <th>1</th>\n",
       "      <td>10</td>\n",
       "      <td>29.99</td>\n",
       "      <td>210</td>\n",
       "      <td>544.12</td>\n",
       "      <td>498.02</td>\n",
       "      <td>2.49010</td>\n",
       "    </tr>\n",
       "    <tr>\n",
       "      <th>2</th>\n",
       "      <td>20</td>\n",
       "      <td>55.58</td>\n",
       "      <td>220</td>\n",
       "      <td>569.89</td>\n",
       "      <td>498.01</td>\n",
       "      <td>2.49005</td>\n",
       "    </tr>\n",
       "    <tr>\n",
       "      <th>3</th>\n",
       "      <td>30</td>\n",
       "      <td>81.30</td>\n",
       "      <td>230</td>\n",
       "      <td>595.58</td>\n",
       "      <td>498.07</td>\n",
       "      <td>2.49035</td>\n",
       "    </tr>\n",
       "    <tr>\n",
       "      <th>4</th>\n",
       "      <td>40</td>\n",
       "      <td>107.11</td>\n",
       "      <td>240</td>\n",
       "      <td>621.22</td>\n",
       "      <td>498.16</td>\n",
       "      <td>2.49080</td>\n",
       "    </tr>\n",
       "  </tbody>\n",
       "</table>\n",
       "</div>"
      ],
      "text/plain": [
       "   Transit[start]  Time[start] (s)  Transit[stop]  Time[stop] (s)  \\\n",
       "0               0             4.32            200          518.32   \n",
       "1              10            29.99            210          544.12   \n",
       "2              20            55.58            220          569.89   \n",
       "3              30            81.30            230          595.58   \n",
       "4              40           107.11            240          621.22   \n",
       "\n",
       "   Time for 200 Oscillations (s)  Period [T] (s)  \n",
       "0                         497.98         2.48990  \n",
       "1                         498.02         2.49010  \n",
       "2                         498.01         2.49005  \n",
       "3                         498.07         2.49035  \n",
       "4                         498.16         2.49080  "
      ]
     },
     "metadata": {},
     "output_type": "display_data"
    },
    {
     "name": "stdout",
     "output_type": "stream",
     "text": [
      "Table 1. 3  : Time for 200 Oscillations\n"
     ]
    },
    {
     "data": {
      "text/html": [
       "<div>\n",
       "<style scoped>\n",
       "    .dataframe tbody tr th:only-of-type {\n",
       "        vertical-align: middle;\n",
       "    }\n",
       "\n",
       "    .dataframe tbody tr th {\n",
       "        vertical-align: top;\n",
       "    }\n",
       "\n",
       "    .dataframe thead th {\n",
       "        text-align: right;\n",
       "    }\n",
       "</style>\n",
       "<table border=\"1\" class=\"dataframe\">\n",
       "  <thead>\n",
       "    <tr style=\"text-align: right;\">\n",
       "      <th></th>\n",
       "      <th>Transit[start]</th>\n",
       "      <th>Time[start] (s)</th>\n",
       "      <th>Transit[stop]</th>\n",
       "      <th>Time[stop] (s)</th>\n",
       "      <th>Time for 200 Oscillations (s)</th>\n",
       "      <th>Period [T] (s)</th>\n",
       "    </tr>\n",
       "  </thead>\n",
       "  <tbody>\n",
       "    <tr>\n",
       "      <th>0</th>\n",
       "      <td>0</td>\n",
       "      <td>4.32</td>\n",
       "      <td>200</td>\n",
       "      <td>518.32</td>\n",
       "      <td>320.87</td>\n",
       "      <td>1.60435</td>\n",
       "    </tr>\n",
       "    <tr>\n",
       "      <th>1</th>\n",
       "      <td>10</td>\n",
       "      <td>29.99</td>\n",
       "      <td>210</td>\n",
       "      <td>544.12</td>\n",
       "      <td>321.00</td>\n",
       "      <td>1.60500</td>\n",
       "    </tr>\n",
       "    <tr>\n",
       "      <th>2</th>\n",
       "      <td>20</td>\n",
       "      <td>55.58</td>\n",
       "      <td>220</td>\n",
       "      <td>569.89</td>\n",
       "      <td>320.84</td>\n",
       "      <td>1.60420</td>\n",
       "    </tr>\n",
       "    <tr>\n",
       "      <th>3</th>\n",
       "      <td>30</td>\n",
       "      <td>81.30</td>\n",
       "      <td>230</td>\n",
       "      <td>595.58</td>\n",
       "      <td>320.99</td>\n",
       "      <td>1.60495</td>\n",
       "    </tr>\n",
       "    <tr>\n",
       "      <th>4</th>\n",
       "      <td>40</td>\n",
       "      <td>107.11</td>\n",
       "      <td>240</td>\n",
       "      <td>621.22</td>\n",
       "      <td>320.84</td>\n",
       "      <td>1.60420</td>\n",
       "    </tr>\n",
       "  </tbody>\n",
       "</table>\n",
       "</div>"
      ],
      "text/plain": [
       "   Transit[start]  Time[start] (s)  Transit[stop]  Time[stop] (s)  \\\n",
       "0               0             4.32            200          518.32   \n",
       "1              10            29.99            210          544.12   \n",
       "2              20            55.58            220          569.89   \n",
       "3              30            81.30            230          595.58   \n",
       "4              40           107.11            240          621.22   \n",
       "\n",
       "   Time for 200 Oscillations (s)  Period [T] (s)  \n",
       "0                         320.87         1.60435  \n",
       "1                         321.00         1.60500  \n",
       "2                         320.84         1.60420  \n",
       "3                         320.99         1.60495  \n",
       "4                         320.84         1.60420  "
      ]
     },
     "metadata": {},
     "output_type": "display_data"
    },
    {
     "name": "stdout",
     "output_type": "stream",
     "text": [
      "Table 1. 4  : Time for 200 Oscillations\n"
     ]
    },
    {
     "data": {
      "text/html": [
       "<div>\n",
       "<style scoped>\n",
       "    .dataframe tbody tr th:only-of-type {\n",
       "        vertical-align: middle;\n",
       "    }\n",
       "\n",
       "    .dataframe tbody tr th {\n",
       "        vertical-align: top;\n",
       "    }\n",
       "\n",
       "    .dataframe thead th {\n",
       "        text-align: right;\n",
       "    }\n",
       "</style>\n",
       "<table border=\"1\" class=\"dataframe\">\n",
       "  <thead>\n",
       "    <tr style=\"text-align: right;\">\n",
       "      <th></th>\n",
       "      <th>Transit[start]</th>\n",
       "      <th>Time[start] (s)</th>\n",
       "      <th>Transit[stop]</th>\n",
       "      <th>Time[stop] (s)</th>\n",
       "      <th>Time for 200 Oscillations (s)</th>\n",
       "      <th>Period [T] (s)</th>\n",
       "    </tr>\n",
       "  </thead>\n",
       "  <tbody>\n",
       "    <tr>\n",
       "      <th>0</th>\n",
       "      <td>0</td>\n",
       "      <td>4.32</td>\n",
       "      <td>200</td>\n",
       "      <td>518.32</td>\n",
       "      <td>295.47</td>\n",
       "      <td>1.47735</td>\n",
       "    </tr>\n",
       "    <tr>\n",
       "      <th>1</th>\n",
       "      <td>10</td>\n",
       "      <td>29.99</td>\n",
       "      <td>210</td>\n",
       "      <td>544.12</td>\n",
       "      <td>295.45</td>\n",
       "      <td>1.47725</td>\n",
       "    </tr>\n",
       "    <tr>\n",
       "      <th>2</th>\n",
       "      <td>20</td>\n",
       "      <td>55.58</td>\n",
       "      <td>220</td>\n",
       "      <td>569.89</td>\n",
       "      <td>295.52</td>\n",
       "      <td>1.47760</td>\n",
       "    </tr>\n",
       "    <tr>\n",
       "      <th>3</th>\n",
       "      <td>30</td>\n",
       "      <td>81.30</td>\n",
       "      <td>230</td>\n",
       "      <td>595.58</td>\n",
       "      <td>295.45</td>\n",
       "      <td>1.47725</td>\n",
       "    </tr>\n",
       "    <tr>\n",
       "      <th>4</th>\n",
       "      <td>40</td>\n",
       "      <td>107.11</td>\n",
       "      <td>240</td>\n",
       "      <td>621.22</td>\n",
       "      <td>295.57</td>\n",
       "      <td>1.47785</td>\n",
       "    </tr>\n",
       "  </tbody>\n",
       "</table>\n",
       "</div>"
      ],
      "text/plain": [
       "   Transit[start]  Time[start] (s)  Transit[stop]  Time[stop] (s)  \\\n",
       "0               0             4.32            200          518.32   \n",
       "1              10            29.99            210          544.12   \n",
       "2              20            55.58            220          569.89   \n",
       "3              30            81.30            230          595.58   \n",
       "4              40           107.11            240          621.22   \n",
       "\n",
       "   Time for 200 Oscillations (s)  Period [T] (s)  \n",
       "0                         295.47         1.47735  \n",
       "1                         295.45         1.47725  \n",
       "2                         295.52         1.47760  \n",
       "3                         295.45         1.47725  \n",
       "4                         295.57         1.47785  "
      ]
     },
     "metadata": {},
     "output_type": "display_data"
    },
    {
     "name": "stdout",
     "output_type": "stream",
     "text": [
      "Table 1. 5  : Time for 200 Oscillations\n"
     ]
    },
    {
     "data": {
      "text/html": [
       "<div>\n",
       "<style scoped>\n",
       "    .dataframe tbody tr th:only-of-type {\n",
       "        vertical-align: middle;\n",
       "    }\n",
       "\n",
       "    .dataframe tbody tr th {\n",
       "        vertical-align: top;\n",
       "    }\n",
       "\n",
       "    .dataframe thead th {\n",
       "        text-align: right;\n",
       "    }\n",
       "</style>\n",
       "<table border=\"1\" class=\"dataframe\">\n",
       "  <thead>\n",
       "    <tr style=\"text-align: right;\">\n",
       "      <th></th>\n",
       "      <th>Transit[start]</th>\n",
       "      <th>Time[start] (s)</th>\n",
       "      <th>Transit[stop]</th>\n",
       "      <th>Time[stop] (s)</th>\n",
       "      <th>Time for 200 Oscillations (s)</th>\n",
       "      <th>Period [T] (s)</th>\n",
       "    </tr>\n",
       "  </thead>\n",
       "  <tbody>\n",
       "    <tr>\n",
       "      <th>0</th>\n",
       "      <td>0</td>\n",
       "      <td>4.32</td>\n",
       "      <td>200</td>\n",
       "      <td>518.32</td>\n",
       "      <td>None</td>\n",
       "      <td>None</td>\n",
       "    </tr>\n",
       "    <tr>\n",
       "      <th>1</th>\n",
       "      <td>10</td>\n",
       "      <td>29.99</td>\n",
       "      <td>210</td>\n",
       "      <td>544.12</td>\n",
       "      <td>None</td>\n",
       "      <td>None</td>\n",
       "    </tr>\n",
       "    <tr>\n",
       "      <th>2</th>\n",
       "      <td>20</td>\n",
       "      <td>55.58</td>\n",
       "      <td>220</td>\n",
       "      <td>569.89</td>\n",
       "      <td>None</td>\n",
       "      <td>None</td>\n",
       "    </tr>\n",
       "    <tr>\n",
       "      <th>3</th>\n",
       "      <td>30</td>\n",
       "      <td>81.30</td>\n",
       "      <td>230</td>\n",
       "      <td>595.58</td>\n",
       "      <td>None</td>\n",
       "      <td>None</td>\n",
       "    </tr>\n",
       "    <tr>\n",
       "      <th>4</th>\n",
       "      <td>40</td>\n",
       "      <td>107.11</td>\n",
       "      <td>240</td>\n",
       "      <td>621.22</td>\n",
       "      <td>None</td>\n",
       "      <td>None</td>\n",
       "    </tr>\n",
       "  </tbody>\n",
       "</table>\n",
       "</div>"
      ],
      "text/plain": [
       "   Transit[start]  Time[start] (s)  Transit[stop]  Time[stop] (s)  \\\n",
       "0               0             4.32            200          518.32   \n",
       "1              10            29.99            210          544.12   \n",
       "2              20            55.58            220          569.89   \n",
       "3              30            81.30            230          595.58   \n",
       "4              40           107.11            240          621.22   \n",
       "\n",
       "  Time for 200 Oscillations (s) Period [T] (s)  \n",
       "0                          None           None  \n",
       "1                          None           None  \n",
       "2                          None           None  \n",
       "3                          None           None  \n",
       "4                          None           None  "
      ]
     },
     "metadata": {},
     "output_type": "display_data"
    }
   ],
   "source": [
    "# Create DataFrame\n",
    "\n",
    "column_names = ['Transit[start]', 'Time[start] (s)', 'Transit[stop]', 'Time[stop] (s)', 'Time for 200 Oscillations (s)', 'Period [T] (s)']\n",
    "\n",
    "# Create a dictionary where the keys are the column names and the values are the lists of data\n",
    "\n",
    "data = [None]*5\n",
    "for d in range(0,5):\n",
    "    data[d]= {\n",
    "        column_names[0]: n_start,\n",
    "        column_names[1]: t_start1,\n",
    "        column_names[2]: n_stop,\n",
    "        column_names[3]: t_stop1,\n",
    "        column_names[4]: t[d],\n",
    "        column_names[5]: p[d]\n",
    "    }\n",
    "    print(\"Table\",\"1.\",\td+1,\" : Time for 200 Oscillations\")\n",
    "    df = pd.DataFrame(data[d])\n",
    "    display(df)\n"
   ]
  },
  {
   "cell_type": "code",
   "execution_count": 182,
   "metadata": {},
   "outputs": [
    {
     "name": "stdout",
     "output_type": "stream",
     "text": [
      "[2.57083, 2.49024, 1.60454, 1.47746]\n"
     ]
    }
   ],
   "source": [
    "# Function to calculate the mean period [T] (s)\n",
    "\n",
    "mean_period = [None]*4\n",
    "# Calculate mean period\n",
    "for i in range(0, 4):\n",
    "    mean_period[i] = sum(p[i])/5\n",
    "\n",
    "print(mean_period)\n"
   ]
  },
  {
   "cell_type": "markdown",
   "metadata": {},
   "source": [
    "## Data Analysis"
   ]
  },
  {
   "cell_type": "markdown",
   "metadata": {},
   "source": [
    "### Calculate the acceleration due to gravity [g] (m/s^2)"
   ]
  },
  {
   "attachments": {
    "image.png": {
     "image/png": "[encoded data removed]"
    }
   },
   "cell_type": "markdown",
   "metadata": {},
   "source": [
    "![image.png](attachment:image.png)"
   ]
  },
  {
   "cell_type": "code",
   "execution_count": 201,
   "metadata": {},
   "outputs": [
    {
     "name": "stdout",
     "output_type": "stream",
     "text": [
      "Data for calculating g1 :\n",
      "\n",
      "L1 :  1.6 m\n",
      "L2 :  0.6 m\n",
      "T1 :  2.57083 s\n",
      "T2 :  1.60454 s\n",
      "\n",
      "g1 :  9.78492 m/s^2\n"
     ]
    }
   ],
   "source": [
    "# Calculate g1\n",
    "print(\"Data for calculating g1 :\\n\")\n",
    "l1 = l[0]/100\n",
    "l2 = l[2]/100\n",
    "T1 = mean_period[0]\n",
    "T2 = mean_period[2]\n",
    "\n",
    "print(\"L1 : \", l1, \"m\")\n",
    "print(\"L2 : \", l2, \"m\")\n",
    "print(\"T1 : \", T1, \"s\")\n",
    "print(\"T2 : \", T2, \"s\\n\")\n",
    "\n",
    "# By Equation \n",
    "\n",
    "g1 = 4*(np.pi**2)*(l1-l2)/(T1**2-T2**2)\n",
    "\n",
    "print(\"g1 : \", round(g1,5), \"m/s^2\")\n"
   ]
  },
  {
   "cell_type": "code",
   "execution_count": 202,
   "metadata": {},
   "outputs": [
    {
     "name": "stdout",
     "output_type": "stream",
     "text": [
      "Data for calculating g2 :\n",
      "\n",
      "L1 :  1.5 m\n",
      "L2 :  0.5 m\n",
      "T1 :  2.49024 s\n",
      "T2 :  1.47746 s\n",
      "\n",
      "g2 :  9.82439 m/s^2\n"
     ]
    }
   ],
   "source": [
    "# Calculate g2\t\n",
    "print(\"Data for calculating g2 :\\n\")\n",
    "\n",
    "l1 = l[1]/100\n",
    "l2 = l[3]/100\n",
    "T1 = mean_period[1]\n",
    "T2 = mean_period[3]\n",
    "\n",
    "print(\"L1 : \", l1, \"m\")\n",
    "print(\"L2 : \", l2, \"m\")\n",
    "print(\"T1 : \", T1, \"s\")\n",
    "print(\"T2 : \", T2, \"s\\n\")\n",
    "\n",
    "# By Equation \n",
    "\n",
    "g2 = 4*(np.pi**2)*(l1-l2)/(T1**2-T2**2)\n",
    "\n",
    "print(\"g2 : \", round(g2,5), \"m/s^2\")"
   ]
  },
  {
   "cell_type": "code",
   "execution_count": 203,
   "metadata": {},
   "outputs": [
    {
     "name": "stdout",
     "output_type": "stream",
     "text": [
      "g :  9.80466 m/s^2\n"
     ]
    }
   ],
   "source": [
    "# Average of g1 and g2\n",
    "g = (g1 + g2)/2\n",
    "print(\"g : \", round(g,5), \"m/s^2\")"
   ]
  }
 ],
 "metadata": {
  "kernelspec": {
   "display_name": "Python 3",
   "language": "python",
   "name": "python3"
  },
  "language_info": {
   "codemirror_mode": {
    "name": "ipython",
    "version": 3
   },
   "file_extension": ".py",
   "mimetype": "text/x-python",
   "name": "python",
   "nbconvert_exporter": "python",
   "pygments_lexer": "ipython3",
   "version": "3.12.4"
  }
 },
 "nbformat": 4,
 "nbformat_minor": 2
}
